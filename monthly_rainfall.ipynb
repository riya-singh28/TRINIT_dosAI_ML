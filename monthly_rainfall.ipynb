{
 "cells": [
  {
   "cell_type": "code",
   "execution_count": 1,
   "metadata": {},
   "outputs": [
    {
     "data": {
      "text/html": [
       "<div>\n",
       "<style scoped>\n",
       "    .dataframe tbody tr th:only-of-type {\n",
       "        vertical-align: middle;\n",
       "    }\n",
       "\n",
       "    .dataframe tbody tr th {\n",
       "        vertical-align: top;\n",
       "    }\n",
       "\n",
       "    .dataframe thead th {\n",
       "        text-align: right;\n",
       "    }\n",
       "</style>\n",
       "<table border=\"1\" class=\"dataframe\">\n",
       "  <thead>\n",
       "    <tr style=\"text-align: right;\">\n",
       "      <th></th>\n",
       "      <th>Unnamed: 0</th>\n",
       "      <th>state</th>\n",
       "      <th>district</th>\n",
       "      <th>Jan</th>\n",
       "      <th>Feb</th>\n",
       "      <th>Mar</th>\n",
       "      <th>Apr</th>\n",
       "      <th>May</th>\n",
       "      <th>Jun</th>\n",
       "      <th>Jul</th>\n",
       "      <th>Aug</th>\n",
       "      <th>Sep</th>\n",
       "      <th>Oct</th>\n",
       "      <th>Nov</th>\n",
       "      <th>Dec</th>\n",
       "    </tr>\n",
       "  </thead>\n",
       "  <tbody>\n",
       "    <tr>\n",
       "      <th>0</th>\n",
       "      <td>0</td>\n",
       "      <td>telangana</td>\n",
       "      <td>adilabad</td>\n",
       "      <td>0.0</td>\n",
       "      <td>0.0</td>\n",
       "      <td>15.2</td>\n",
       "      <td>3.5</td>\n",
       "      <td>22.9</td>\n",
       "      <td>244.5</td>\n",
       "      <td>118.9</td>\n",
       "      <td>272.1</td>\n",
       "      <td>84.9</td>\n",
       "      <td>75.9</td>\n",
       "      <td>8.0</td>\n",
       "      <td>0.5</td>\n",
       "    </tr>\n",
       "    <tr>\n",
       "      <th>1</th>\n",
       "      <td>1</td>\n",
       "      <td>andhra pradesh</td>\n",
       "      <td>anantpur</td>\n",
       "      <td>0.2</td>\n",
       "      <td>0.0</td>\n",
       "      <td>6.2</td>\n",
       "      <td>9.2</td>\n",
       "      <td>44.2</td>\n",
       "      <td>60.8</td>\n",
       "      <td>31.3</td>\n",
       "      <td>96.1</td>\n",
       "      <td>195.9</td>\n",
       "      <td>208.8</td>\n",
       "      <td>8.0</td>\n",
       "      <td>0.5</td>\n",
       "    </tr>\n",
       "    <tr>\n",
       "      <th>2</th>\n",
       "      <td>2</td>\n",
       "      <td>andaman and nicobar islands</td>\n",
       "      <td>andaman</td>\n",
       "      <td>10.2</td>\n",
       "      <td>163.2</td>\n",
       "      <td>364.8</td>\n",
       "      <td>431.2</td>\n",
       "      <td>343.0</td>\n",
       "      <td>199.6</td>\n",
       "      <td>320.9</td>\n",
       "      <td>741.4</td>\n",
       "      <td>199.0</td>\n",
       "      <td>72.2</td>\n",
       "      <td>0.0</td>\n",
       "      <td>0.0</td>\n",
       "    </tr>\n",
       "    <tr>\n",
       "      <th>3</th>\n",
       "      <td>3</td>\n",
       "      <td>arunachal pradesh</td>\n",
       "      <td>anjaw</td>\n",
       "      <td>10.2</td>\n",
       "      <td>163.2</td>\n",
       "      <td>364.8</td>\n",
       "      <td>431.2</td>\n",
       "      <td>343.0</td>\n",
       "      <td>199.6</td>\n",
       "      <td>320.9</td>\n",
       "      <td>741.4</td>\n",
       "      <td>199.0</td>\n",
       "      <td>72.2</td>\n",
       "      <td>0.0</td>\n",
       "      <td>0.0</td>\n",
       "    </tr>\n",
       "    <tr>\n",
       "      <th>4</th>\n",
       "      <td>4</td>\n",
       "      <td>bihar</td>\n",
       "      <td>araria</td>\n",
       "      <td>0.0</td>\n",
       "      <td>0.0</td>\n",
       "      <td>49.0</td>\n",
       "      <td>18.9</td>\n",
       "      <td>93.9</td>\n",
       "      <td>143.4</td>\n",
       "      <td>320.9</td>\n",
       "      <td>741.4</td>\n",
       "      <td>199.0</td>\n",
       "      <td>72.2</td>\n",
       "      <td>0.0</td>\n",
       "      <td>0.0</td>\n",
       "    </tr>\n",
       "  </tbody>\n",
       "</table>\n",
       "</div>"
      ],
      "text/plain": [
       "   Unnamed: 0                        state  district   Jan    Feb    Mar  \\\n",
       "0           0                    telangana  adilabad   0.0    0.0   15.2   \n",
       "1           1               andhra pradesh  anantpur   0.2    0.0    6.2   \n",
       "2           2  andaman and nicobar islands   andaman  10.2  163.2  364.8   \n",
       "3           3            arunachal pradesh     anjaw  10.2  163.2  364.8   \n",
       "4           4                        bihar    araria   0.0    0.0   49.0   \n",
       "\n",
       "     Apr    May    Jun    Jul    Aug    Sep    Oct  Nov  Dec  \n",
       "0    3.5   22.9  244.5  118.9  272.1   84.9   75.9  8.0  0.5  \n",
       "1    9.2   44.2   60.8   31.3   96.1  195.9  208.8  8.0  0.5  \n",
       "2  431.2  343.0  199.6  320.9  741.4  199.0   72.2  0.0  0.0  \n",
       "3  431.2  343.0  199.6  320.9  741.4  199.0   72.2  0.0  0.0  \n",
       "4   18.9   93.9  143.4  320.9  741.4  199.0   72.2  0.0  0.0  "
      ]
     },
     "execution_count": 1,
     "metadata": {},
     "output_type": "execute_result"
    }
   ],
   "source": [
    "import pandas as pd\n",
    "\n",
    "df = pd.read_csv(\"data/monthly_rainfall.csv\")\n",
    "df.head()"
   ]
  },
  {
   "cell_type": "code",
   "execution_count": 2,
   "metadata": {},
   "outputs": [],
   "source": [
    "st = \"andaman and nicobar islands\"\n",
    "dt = \"andaman\"\n",
    "mon = \"Jun\""
   ]
  },
  {
   "cell_type": "code",
   "execution_count": 10,
   "metadata": {},
   "outputs": [],
   "source": [
    "def get_rain(df: pd.DataFrame, district: str, state: str, month: str):\n",
    "    return df.query(f'state == \"{state}\" & district == \"{district}\"')[month]"
   ]
  },
  {
   "cell_type": "code",
   "execution_count": 3,
   "metadata": {},
   "outputs": [
    {
     "data": {
      "text/plain": [
       "199.6"
      ]
     },
     "execution_count": 3,
     "metadata": {},
     "output_type": "execute_result"
    }
   ],
   "source": [
    "df.loc[(df['state']==st) & (df['district']==dt)][mon].tolist()[0]"
   ]
  },
  {
   "cell_type": "code",
   "execution_count": 11,
   "metadata": {},
   "outputs": [
    {
     "data": {
      "text/plain": [
       "2    199.6\n",
       "Name: Jun, dtype: float64"
      ]
     },
     "execution_count": 11,
     "metadata": {},
     "output_type": "execute_result"
    }
   ],
   "source": [
    "get_rain(df, dt, st, mon)"
   ]
  },
  {
   "cell_type": "code",
   "execution_count": 6,
   "metadata": {},
   "outputs": [
    {
     "data": {
      "text/plain": [
       "2    199.6\n",
       "Name: Jun, dtype: float64"
      ]
     },
     "execution_count": 6,
     "metadata": {},
     "output_type": "execute_result"
    }
   ],
   "source": [
    "df.query(f'state == \"{st}\" & district == \"{dt}\"')[mon]"
   ]
  },
  {
   "cell_type": "code",
   "execution_count": 7,
   "metadata": {},
   "outputs": [
    {
     "data": {
      "text/plain": [
       "Index(['Unnamed: 0', 'state', 'district', 'Jan', 'Feb', 'Mar', 'Apr', 'May',\n",
       "       'Jun', 'Jul', 'Aug', 'Sep', 'Oct', 'Nov', 'Dec'],\n",
       "      dtype='object')"
      ]
     },
     "execution_count": 7,
     "metadata": {},
     "output_type": "execute_result"
    }
   ],
   "source": [
    "df.columns"
   ]
  },
  {
   "cell_type": "code",
   "execution_count": 8,
   "metadata": {},
   "outputs": [
    {
     "data": {
      "text/plain": [
       "['andaman and nicobar islands',\n",
       " 'andhra pradesh',\n",
       " 'arunachal pradesh',\n",
       " 'assam',\n",
       " 'bihar',\n",
       " 'chandigarh',\n",
       " 'chhattisgarh',\n",
       " 'dadra and nagar haveli',\n",
       " 'daman and diu',\n",
       " 'delhi',\n",
       " 'goa',\n",
       " 'gujarat',\n",
       " 'haryana',\n",
       " 'himachal pradesh',\n",
       " 'jammu and kashmir',\n",
       " 'jharkhand',\n",
       " 'karnataka',\n",
       " 'kerala',\n",
       " 'lakshadweep',\n",
       " 'madhya pradesh',\n",
       " 'maharashtra',\n",
       " 'manipur',\n",
       " 'meghalaya',\n",
       " 'mizoram',\n",
       " 'nagaland',\n",
       " 'odisha',\n",
       " 'puducherry',\n",
       " 'punjab',\n",
       " 'rajasthan',\n",
       " 'sikkim',\n",
       " 'tamil nadu',\n",
       " 'telangana',\n",
       " 'tripura',\n",
       " 'uttar pradesh',\n",
       " 'uttarakhand',\n",
       " 'west bengal']"
      ]
     },
     "execution_count": 8,
     "metadata": {},
     "output_type": "execute_result"
    }
   ],
   "source": [
    "import utils\n",
    "\n",
    "utils.list_of_states(df)"
   ]
  },
  {
   "cell_type": "code",
   "execution_count": 9,
   "metadata": {},
   "outputs": [
    {
     "data": {
      "text/plain": [
       "['adilabad',\n",
       " 'hyderabad',\n",
       " 'karimnagar',\n",
       " 'khammam',\n",
       " 'mahbubnagar',\n",
       " 'medak',\n",
       " 'nalgonda',\n",
       " 'nizamabad',\n",
       " 'rangareddy',\n",
       " 'warangal']"
      ]
     },
     "execution_count": 9,
     "metadata": {},
     "output_type": "execute_result"
    }
   ],
   "source": [
    "utils.list_of_dist(df, \"telangana\")"
   ]
  }
 ],
 "metadata": {
  "interpreter": {
   "hash": "49a5f4cc1c35447d320954bfde3569d053175fc1a6391117b86202c02ade1e33"
  },
  "kernelspec": {
   "display_name": "Python 3.9.7 64-bit ('pyb_env': conda)",
   "language": "python",
   "name": "python3"
  },
  "language_info": {
   "codemirror_mode": {
    "name": "ipython",
    "version": 3
   },
   "file_extension": ".py",
   "mimetype": "text/x-python",
   "name": "python",
   "nbconvert_exporter": "python",
   "pygments_lexer": "ipython3",
   "version": "3.10.12"
  },
  "orig_nbformat": 4
 },
 "nbformat": 4,
 "nbformat_minor": 2
}
